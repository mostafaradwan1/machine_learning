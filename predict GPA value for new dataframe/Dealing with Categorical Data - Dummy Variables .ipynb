{
 "cells": [
  {
   "cell_type": "code",
   "execution_count": null,
   "metadata": {},
   "outputs": [],
   "source": [
    "import numpy as np\n",
    "import matplotlib.pyplot as plt\n",
    "import pandas as pd\n",
    "import statsmodels.api as sm\n",
    "import seaborn\n",
    "seaborn.set()"
   ]
  },
  {
   "cell_type": "code",
   "execution_count": null,
   "metadata": {
    "scrolled": false
   },
   "outputs": [],
   "source": [
    "raw_data=pd.read_csv('Dummies.csv')\n",
    "raw_data"
   ]
  },
  {
   "cell_type": "code",
   "execution_count": null,
   "metadata": {},
   "outputs": [],
   "source": [
    "data=raw_data.copy()\n",
    "data['Attendance']=data['Attendance'].map({'No':0,'Yes':1})"
   ]
  },
  {
   "cell_type": "code",
   "execution_count": null,
   "metadata": {},
   "outputs": [],
   "source": [
    "y=data['GPA']\n",
    "x1=data[['SAT','Attendance']]"
   ]
  },
  {
   "cell_type": "code",
   "execution_count": null,
   "metadata": {},
   "outputs": [],
   "source": [
    "x=sm.add_constant(x1)\n",
    "results=sm.OLS(y,x).fit()\n",
    "results.summary()"
   ]
  },
  {
   "cell_type": "code",
   "execution_count": null,
   "metadata": {},
   "outputs": [],
   "source": [
    "x0=data['SAT']\n",
    "plt.scatter(x0,y,lw=2,label='linear regrission')\n",
    "yhat_0=0.6439+0.0014*x0\n",
    "yhat_1=.8656+0.0014*x0\n",
    "fig_0=plt.plot(x0,yhat_0,lw=2)\n",
    "fig_1=plt.plot(x0,yhat_1,lw=2)\n",
    "plt.ylabel('GPA',fontsize=20)\n",
    "plt.xlabel('SAT',fontsize=20)\n",
    "plt.show()"
   ]
  },
  {
   "cell_type": "code",
   "execution_count": null,
   "metadata": {},
   "outputs": [],
   "source": [
    "##how to make prdictions ??\n",
    "## using statmodels method takes a data frame organized the same way as x \n",
    "##then makes prediction\n",
    "x"
   ]
  },
  {
   "cell_type": "code",
   "execution_count": null,
   "metadata": {},
   "outputs": [],
   "source": [
    "# lets create a data frame to use for prediction \n",
    "# we will organize it the same way as x\n",
    "new_data=pd.DataFrame({'const':1,'SAT':[1700,1670],'Attendance':[0,1]})## allow us to create new data frame\n",
    "new_data=new_data[['const','SAT','Attendance']]## to put the order that we want \n",
    "new_data.rename(index={0:'Bob',1:'ALex'})"
   ]
  },
  {
   "cell_type": "code",
   "execution_count": null,
   "metadata": {},
   "outputs": [],
   "source": [
    "## the method that help us predict the value is predict \n",
    "## it works on the fitted variable\n",
    "predictions=results.predict(new_data)\n",
    "predictions"
   ]
  },
  {
   "cell_type": "code",
   "execution_count": null,
   "metadata": {},
   "outputs": [],
   "source": [
    "predictionsdf=pd.DataFrame({'predictions':predictions})\n",
    "joined=new_data.join(predictionsdf)\n",
    "joined"
   ]
  },
  {
   "cell_type": "code",
   "execution_count": null,
   "metadata": {},
   "outputs": [],
   "source": []
  }
 ],
 "metadata": {
  "kernelspec": {
   "display_name": "Python 3",
   "language": "python",
   "name": "python3"
  },
  "language_info": {
   "codemirror_mode": {
    "name": "ipython",
    "version": 3
   },
   "file_extension": ".py",
   "mimetype": "text/x-python",
   "name": "python",
   "nbconvert_exporter": "python",
   "pygments_lexer": "ipython3",
   "version": "3.7.3-final"
  }
 },
 "nbformat": 4,
 "nbformat_minor": 4
}